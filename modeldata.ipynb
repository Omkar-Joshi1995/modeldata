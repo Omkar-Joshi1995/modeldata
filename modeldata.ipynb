{
 "cells": [
  {
   "cell_type": "code",
   "execution_count": 73,
   "metadata": {},
   "outputs": [],
   "source": [
    "import pandas as pd\n",
    "lbdata=pd.read_csv(\"D:\\Rstudio\\Datasets\\modeldata.csv\")"
   ]
  },
  {
   "cell_type": "code",
   "execution_count": 2,
   "metadata": {},
   "outputs": [
    {
     "data": {
      "text/plain": [
       "(308948, 18)"
      ]
     },
     "execution_count": 2,
     "metadata": {},
     "output_type": "execute_result"
    }
   ],
   "source": [
    "lbdata.shape"
   ]
  },
  {
   "cell_type": "code",
   "execution_count": 3,
   "metadata": {},
   "outputs": [
    {
     "data": {
      "text/html": [
       "<div>\n",
       "<style scoped>\n",
       "    .dataframe tbody tr th:only-of-type {\n",
       "        vertical-align: middle;\n",
       "    }\n",
       "\n",
       "    .dataframe tbody tr th {\n",
       "        vertical-align: top;\n",
       "    }\n",
       "\n",
       "    .dataframe thead th {\n",
       "        text-align: right;\n",
       "    }\n",
       "</style>\n",
       "<table border=\"1\" class=\"dataframe\">\n",
       "  <thead>\n",
       "    <tr style=\"text-align: right;\">\n",
       "      <th></th>\n",
       "      <th>count</th>\n",
       "      <th>unique</th>\n",
       "      <th>top</th>\n",
       "      <th>freq</th>\n",
       "      <th>mean</th>\n",
       "      <th>std</th>\n",
       "      <th>min</th>\n",
       "      <th>25%</th>\n",
       "      <th>50%</th>\n",
       "      <th>75%</th>\n",
       "      <th>max</th>\n",
       "    </tr>\n",
       "  </thead>\n",
       "  <tbody>\n",
       "    <tr>\n",
       "      <th>id</th>\n",
       "      <td>308948</td>\n",
       "      <td>308948</td>\n",
       "      <td>e8c18fcfca60840a7e95f7e7639744a9</td>\n",
       "      <td>1</td>\n",
       "      <td>NaN</td>\n",
       "      <td>NaN</td>\n",
       "      <td>NaN</td>\n",
       "      <td>NaN</td>\n",
       "      <td>NaN</td>\n",
       "      <td>NaN</td>\n",
       "      <td>NaN</td>\n",
       "    </tr>\n",
       "    <tr>\n",
       "      <th>extract_date</th>\n",
       "      <td>308948</td>\n",
       "      <td>1</td>\n",
       "      <td>10-01-2017</td>\n",
       "      <td>308948</td>\n",
       "      <td>NaN</td>\n",
       "      <td>NaN</td>\n",
       "      <td>NaN</td>\n",
       "      <td>NaN</td>\n",
       "      <td>NaN</td>\n",
       "      <td>NaN</td>\n",
       "      <td>NaN</td>\n",
       "    </tr>\n",
       "    <tr>\n",
       "      <th>skill</th>\n",
       "      <td>308948</td>\n",
       "      <td>5</td>\n",
       "      <td>BEGINNER</td>\n",
       "      <td>131207</td>\n",
       "      <td>NaN</td>\n",
       "      <td>NaN</td>\n",
       "      <td>NaN</td>\n",
       "      <td>NaN</td>\n",
       "      <td>NaN</td>\n",
       "      <td>NaN</td>\n",
       "      <td>NaN</td>\n",
       "    </tr>\n",
       "    <tr>\n",
       "      <th>job</th>\n",
       "      <td>144304</td>\n",
       "      <td>14</td>\n",
       "      <td>STUDENT</td>\n",
       "      <td>40501</td>\n",
       "      <td>NaN</td>\n",
       "      <td>NaN</td>\n",
       "      <td>NaN</td>\n",
       "      <td>NaN</td>\n",
       "      <td>NaN</td>\n",
       "      <td>NaN</td>\n",
       "      <td>NaN</td>\n",
       "    </tr>\n",
       "    <tr>\n",
       "      <th>purpose</th>\n",
       "      <td>144288</td>\n",
       "      <td>5</td>\n",
       "      <td>ME_PROFESSIONAL</td>\n",
       "      <td>84504</td>\n",
       "      <td>NaN</td>\n",
       "      <td>NaN</td>\n",
       "      <td>NaN</td>\n",
       "      <td>NaN</td>\n",
       "      <td>NaN</td>\n",
       "      <td>NaN</td>\n",
       "      <td>NaN</td>\n",
       "    </tr>\n",
       "    <tr>\n",
       "      <th>target_group</th>\n",
       "      <td>308948</td>\n",
       "      <td>38</td>\n",
       "      <td>EDGEN - STUDENT</td>\n",
       "      <td>59763</td>\n",
       "      <td>NaN</td>\n",
       "      <td>NaN</td>\n",
       "      <td>NaN</td>\n",
       "      <td>NaN</td>\n",
       "      <td>NaN</td>\n",
       "      <td>NaN</td>\n",
       "      <td>NaN</td>\n",
       "    </tr>\n",
       "    <tr>\n",
       "      <th>business_group</th>\n",
       "      <td>308948</td>\n",
       "      <td>9</td>\n",
       "      <td>EDUCATION</td>\n",
       "      <td>89835</td>\n",
       "      <td>NaN</td>\n",
       "      <td>NaN</td>\n",
       "      <td>NaN</td>\n",
       "      <td>NaN</td>\n",
       "      <td>NaN</td>\n",
       "      <td>NaN</td>\n",
       "      <td>NaN</td>\n",
       "    </tr>\n",
       "    <tr>\n",
       "      <th>business_segment</th>\n",
       "      <td>308923</td>\n",
       "      <td>6</td>\n",
       "      <td>INDIVIDUAL</td>\n",
       "      <td>94681</td>\n",
       "      <td>NaN</td>\n",
       "      <td>NaN</td>\n",
       "      <td>NaN</td>\n",
       "      <td>NaN</td>\n",
       "      <td>NaN</td>\n",
       "      <td>NaN</td>\n",
       "      <td>NaN</td>\n",
       "    </tr>\n",
       "    <tr>\n",
       "      <th>signup_source</th>\n",
       "      <td>308948</td>\n",
       "      <td>104</td>\n",
       "      <td>Renga Auto Provisioning</td>\n",
       "      <td>197649</td>\n",
       "      <td>NaN</td>\n",
       "      <td>NaN</td>\n",
       "      <td>NaN</td>\n",
       "      <td>NaN</td>\n",
       "      <td>NaN</td>\n",
       "      <td>NaN</td>\n",
       "      <td>NaN</td>\n",
       "    </tr>\n",
       "    <tr>\n",
       "      <th>signup_category</th>\n",
       "      <td>308948</td>\n",
       "      <td>5</td>\n",
       "      <td>DESKTOP</td>\n",
       "      <td>277554</td>\n",
       "      <td>NaN</td>\n",
       "      <td>NaN</td>\n",
       "      <td>NaN</td>\n",
       "      <td>NaN</td>\n",
       "      <td>NaN</td>\n",
       "      <td>NaN</td>\n",
       "      <td>NaN</td>\n",
       "    </tr>\n",
       "    <tr>\n",
       "      <th>first_cc_subscription_dts</th>\n",
       "      <td>308948</td>\n",
       "      <td>173958</td>\n",
       "      <td>02-07-2017 00:00</td>\n",
       "      <td>112</td>\n",
       "      <td>NaN</td>\n",
       "      <td>NaN</td>\n",
       "      <td>NaN</td>\n",
       "      <td>NaN</td>\n",
       "      <td>NaN</td>\n",
       "      <td>NaN</td>\n",
       "      <td>NaN</td>\n",
       "    </tr>\n",
       "    <tr>\n",
       "      <th>country_code</th>\n",
       "      <td>308948</td>\n",
       "      <td>42</td>\n",
       "      <td>US</td>\n",
       "      <td>259525</td>\n",
       "      <td>NaN</td>\n",
       "      <td>NaN</td>\n",
       "      <td>NaN</td>\n",
       "      <td>NaN</td>\n",
       "      <td>NaN</td>\n",
       "      <td>NaN</td>\n",
       "      <td>NaN</td>\n",
       "    </tr>\n",
       "    <tr>\n",
       "      <th>product_id</th>\n",
       "      <td>195650</td>\n",
       "      <td>32219</td>\n",
       "      <td>APRO</td>\n",
       "      <td>35513</td>\n",
       "      <td>NaN</td>\n",
       "      <td>NaN</td>\n",
       "      <td>NaN</td>\n",
       "      <td>NaN</td>\n",
       "      <td>NaN</td>\n",
       "      <td>NaN</td>\n",
       "      <td>NaN</td>\n",
       "    </tr>\n",
       "    <tr>\n",
       "      <th>download_attempts</th>\n",
       "      <td>195650</td>\n",
       "      <td>NaN</td>\n",
       "      <td>NaN</td>\n",
       "      <td>NaN</td>\n",
       "      <td>4.05234</td>\n",
       "      <td>9.02657</td>\n",
       "      <td>1</td>\n",
       "      <td>1</td>\n",
       "      <td>2</td>\n",
       "      <td>4</td>\n",
       "      <td>1933</td>\n",
       "    </tr>\n",
       "    <tr>\n",
       "      <th>product_platforms</th>\n",
       "      <td>195650</td>\n",
       "      <td>3</td>\n",
       "      <td>WIN</td>\n",
       "      <td>115994</td>\n",
       "      <td>NaN</td>\n",
       "      <td>NaN</td>\n",
       "      <td>NaN</td>\n",
       "      <td>NaN</td>\n",
       "      <td>NaN</td>\n",
       "      <td>NaN</td>\n",
       "      <td>NaN</td>\n",
       "    </tr>\n",
       "    <tr>\n",
       "      <th>machines</th>\n",
       "      <td>195650</td>\n",
       "      <td>NaN</td>\n",
       "      <td>NaN</td>\n",
       "      <td>NaN</td>\n",
       "      <td>0.881119</td>\n",
       "      <td>0.884315</td>\n",
       "      <td>0</td>\n",
       "      <td>0</td>\n",
       "      <td>1</td>\n",
       "      <td>1</td>\n",
       "      <td>181</td>\n",
       "    </tr>\n",
       "    <tr>\n",
       "      <th>error_codes</th>\n",
       "      <td>13154</td>\n",
       "      <td>1931</td>\n",
       "      <td>6</td>\n",
       "      <td>1880</td>\n",
       "      <td>NaN</td>\n",
       "      <td>NaN</td>\n",
       "      <td>NaN</td>\n",
       "      <td>NaN</td>\n",
       "      <td>NaN</td>\n",
       "      <td>NaN</td>\n",
       "      <td>NaN</td>\n",
       "    </tr>\n",
       "    <tr>\n",
       "      <th>label</th>\n",
       "      <td>308948</td>\n",
       "      <td>NaN</td>\n",
       "      <td>NaN</td>\n",
       "      <td>NaN</td>\n",
       "      <td>0.0536628</td>\n",
       "      <td>0.225351</td>\n",
       "      <td>0</td>\n",
       "      <td>0</td>\n",
       "      <td>0</td>\n",
       "      <td>0</td>\n",
       "      <td>1</td>\n",
       "    </tr>\n",
       "  </tbody>\n",
       "</table>\n",
       "</div>"
      ],
      "text/plain": [
       "                            count  unique                               top  \\\n",
       "id                         308948  308948  e8c18fcfca60840a7e95f7e7639744a9   \n",
       "extract_date               308948       1                        10-01-2017   \n",
       "skill                      308948       5                          BEGINNER   \n",
       "job                        144304      14                           STUDENT   \n",
       "purpose                    144288       5                   ME_PROFESSIONAL   \n",
       "target_group               308948      38                   EDGEN - STUDENT   \n",
       "business_group             308948       9                         EDUCATION   \n",
       "business_segment           308923       6                        INDIVIDUAL   \n",
       "signup_source              308948     104           Renga Auto Provisioning   \n",
       "signup_category            308948       5                           DESKTOP   \n",
       "first_cc_subscription_dts  308948  173958                  02-07-2017 00:00   \n",
       "country_code               308948      42                                US   \n",
       "product_id                 195650   32219                              APRO   \n",
       "download_attempts          195650     NaN                               NaN   \n",
       "product_platforms          195650       3                               WIN   \n",
       "machines                   195650     NaN                               NaN   \n",
       "error_codes                 13154    1931                                 6   \n",
       "label                      308948     NaN                               NaN   \n",
       "\n",
       "                             freq       mean       std  min  25%  50%  75%  \\\n",
       "id                              1        NaN       NaN  NaN  NaN  NaN  NaN   \n",
       "extract_date               308948        NaN       NaN  NaN  NaN  NaN  NaN   \n",
       "skill                      131207        NaN       NaN  NaN  NaN  NaN  NaN   \n",
       "job                         40501        NaN       NaN  NaN  NaN  NaN  NaN   \n",
       "purpose                     84504        NaN       NaN  NaN  NaN  NaN  NaN   \n",
       "target_group                59763        NaN       NaN  NaN  NaN  NaN  NaN   \n",
       "business_group              89835        NaN       NaN  NaN  NaN  NaN  NaN   \n",
       "business_segment            94681        NaN       NaN  NaN  NaN  NaN  NaN   \n",
       "signup_source              197649        NaN       NaN  NaN  NaN  NaN  NaN   \n",
       "signup_category            277554        NaN       NaN  NaN  NaN  NaN  NaN   \n",
       "first_cc_subscription_dts     112        NaN       NaN  NaN  NaN  NaN  NaN   \n",
       "country_code               259525        NaN       NaN  NaN  NaN  NaN  NaN   \n",
       "product_id                  35513        NaN       NaN  NaN  NaN  NaN  NaN   \n",
       "download_attempts             NaN    4.05234   9.02657    1    1    2    4   \n",
       "product_platforms          115994        NaN       NaN  NaN  NaN  NaN  NaN   \n",
       "machines                      NaN   0.881119  0.884315    0    0    1    1   \n",
       "error_codes                  1880        NaN       NaN  NaN  NaN  NaN  NaN   \n",
       "label                         NaN  0.0536628  0.225351    0    0    0    0   \n",
       "\n",
       "                            max  \n",
       "id                          NaN  \n",
       "extract_date                NaN  \n",
       "skill                       NaN  \n",
       "job                         NaN  \n",
       "purpose                     NaN  \n",
       "target_group                NaN  \n",
       "business_group              NaN  \n",
       "business_segment            NaN  \n",
       "signup_source               NaN  \n",
       "signup_category             NaN  \n",
       "first_cc_subscription_dts   NaN  \n",
       "country_code                NaN  \n",
       "product_id                  NaN  \n",
       "download_attempts          1933  \n",
       "product_platforms           NaN  \n",
       "machines                    181  \n",
       "error_codes                 NaN  \n",
       "label                         1  "
      ]
     },
     "execution_count": 3,
     "metadata": {},
     "output_type": "execute_result"
    }
   ],
   "source": [
    "lbdata.describe(include='all').T"
   ]
  },
  {
   "cell_type": "code",
   "execution_count": 6,
   "metadata": {},
   "outputs": [
    {
     "data": {
      "text/plain": [
       "id                                0\n",
       "extract_date                      0\n",
       "skill                             0\n",
       "job                               0\n",
       "purpose                           0\n",
       "target_group                      0\n",
       "business_group                    0\n",
       "business_segment                  0\n",
       "signup_source                     0\n",
       "signup_category                   0\n",
       "first_cc_subscription_dts         0\n",
       "country_code                      0\n",
       "product_id                        0\n",
       "download_attempts                 0\n",
       "product_platforms                 0\n",
       "machines                          0\n",
       "error_codes                  295794\n",
       "label                             0\n",
       "dtype: int64"
      ]
     },
     "execution_count": 6,
     "metadata": {},
     "output_type": "execute_result"
    }
   ],
   "source": [
    "lbdata.isnull().sum()"
   ]
  },
  {
   "cell_type": "code",
   "execution_count": 74,
   "metadata": {},
   "outputs": [],
   "source": [
    "lbdata.fillna({'job':'0','purpose':'0','business_segment':'INDIVIDUAL','product_id':'0','download_attempts':0,'product_platforms':'WIN','machines':1},inplace=True)"
   ]
  },
  {
   "cell_type": "code",
   "execution_count": 75,
   "metadata": {},
   "outputs": [],
   "source": [
    "lbdata=lbdata.drop(['id','extract_date','error_codes','first_cc_subscription_dts'], axis=1)"
   ]
  },
  {
   "cell_type": "code",
   "execution_count": 9,
   "metadata": {},
   "outputs": [
    {
     "data": {
      "text/plain": [
       "(308948, 14)"
      ]
     },
     "execution_count": 9,
     "metadata": {},
     "output_type": "execute_result"
    }
   ],
   "source": [
    "lbdata.shape"
   ]
  },
  {
   "cell_type": "code",
   "execution_count": 76,
   "metadata": {},
   "outputs": [],
   "source": [
    "from sklearn.preprocessing import LabelEncoder\n",
    "#run it for the 1st time(create a instance of it)\n",
    "le=LabelEncoder() \n",
    "X=lbdata\n",
    "for i in range(0,X.shape[1]):\n",
    "    if X.dtypes[i]=='object':\n",
    "        X[X.columns[i]]=le.fit_transform(X[X.columns[i]])"
   ]
  },
  {
   "cell_type": "code",
   "execution_count": 77,
   "metadata": {},
   "outputs": [],
   "source": [
    "lbdata_x=lbdata.iloc[:,0:13]\n",
    "lbdata_y=lbdata.iloc[:,-1]"
   ]
  },
  {
   "cell_type": "code",
   "execution_count": 15,
   "metadata": {},
   "outputs": [
    {
     "data": {
      "text/html": [
       "<div>\n",
       "<style scoped>\n",
       "    .dataframe tbody tr th:only-of-type {\n",
       "        vertical-align: middle;\n",
       "    }\n",
       "\n",
       "    .dataframe tbody tr th {\n",
       "        vertical-align: top;\n",
       "    }\n",
       "\n",
       "    .dataframe thead th {\n",
       "        text-align: right;\n",
       "    }\n",
       "</style>\n",
       "<table border=\"1\" class=\"dataframe\">\n",
       "  <thead>\n",
       "    <tr style=\"text-align: right;\">\n",
       "      <th></th>\n",
       "      <th>skill</th>\n",
       "      <th>job</th>\n",
       "      <th>purpose</th>\n",
       "      <th>target_group</th>\n",
       "      <th>business_group</th>\n",
       "      <th>business_segment</th>\n",
       "      <th>signup_source</th>\n",
       "      <th>signup_category</th>\n",
       "      <th>country_code</th>\n",
       "      <th>product_id</th>\n",
       "      <th>download_attempts</th>\n",
       "      <th>product_platforms</th>\n",
       "      <th>machines</th>\n",
       "    </tr>\n",
       "  </thead>\n",
       "  <tbody>\n",
       "    <tr>\n",
       "      <th>0</th>\n",
       "      <td>0</td>\n",
       "      <td>1</td>\n",
       "      <td>2</td>\n",
       "      <td>17</td>\n",
       "      <td>5</td>\n",
       "      <td>1</td>\n",
       "      <td>24</td>\n",
       "      <td>1</td>\n",
       "      <td>38</td>\n",
       "      <td>24328</td>\n",
       "      <td>2.0</td>\n",
       "      <td>0</td>\n",
       "      <td>1.0</td>\n",
       "    </tr>\n",
       "    <tr>\n",
       "      <th>1</th>\n",
       "      <td>0</td>\n",
       "      <td>1</td>\n",
       "      <td>2</td>\n",
       "      <td>12</td>\n",
       "      <td>5</td>\n",
       "      <td>1</td>\n",
       "      <td>85</td>\n",
       "      <td>1</td>\n",
       "      <td>38</td>\n",
       "      <td>7313</td>\n",
       "      <td>1.0</td>\n",
       "      <td>2</td>\n",
       "      <td>0.0</td>\n",
       "    </tr>\n",
       "    <tr>\n",
       "      <th>2</th>\n",
       "      <td>0</td>\n",
       "      <td>0</td>\n",
       "      <td>0</td>\n",
       "      <td>19</td>\n",
       "      <td>6</td>\n",
       "      <td>4</td>\n",
       "      <td>27</td>\n",
       "      <td>3</td>\n",
       "      <td>38</td>\n",
       "      <td>17507</td>\n",
       "      <td>3.0</td>\n",
       "      <td>1</td>\n",
       "      <td>1.0</td>\n",
       "    </tr>\n",
       "    <tr>\n",
       "      <th>3</th>\n",
       "      <td>0</td>\n",
       "      <td>11</td>\n",
       "      <td>1</td>\n",
       "      <td>13</td>\n",
       "      <td>5</td>\n",
       "      <td>1</td>\n",
       "      <td>85</td>\n",
       "      <td>1</td>\n",
       "      <td>38</td>\n",
       "      <td>28424</td>\n",
       "      <td>2.0</td>\n",
       "      <td>2</td>\n",
       "      <td>1.0</td>\n",
       "    </tr>\n",
       "    <tr>\n",
       "      <th>4</th>\n",
       "      <td>0</td>\n",
       "      <td>11</td>\n",
       "      <td>2</td>\n",
       "      <td>13</td>\n",
       "      <td>5</td>\n",
       "      <td>1</td>\n",
       "      <td>85</td>\n",
       "      <td>1</td>\n",
       "      <td>38</td>\n",
       "      <td>12938</td>\n",
       "      <td>1.0</td>\n",
       "      <td>0</td>\n",
       "      <td>0.0</td>\n",
       "    </tr>\n",
       "  </tbody>\n",
       "</table>\n",
       "</div>"
      ],
      "text/plain": [
       "   skill  job  purpose  target_group  business_group  business_segment  \\\n",
       "0      0    1        2            17               5                 1   \n",
       "1      0    1        2            12               5                 1   \n",
       "2      0    0        0            19               6                 4   \n",
       "3      0   11        1            13               5                 1   \n",
       "4      0   11        2            13               5                 1   \n",
       "\n",
       "   signup_source  signup_category  country_code  product_id  \\\n",
       "0             24                1            38       24328   \n",
       "1             85                1            38        7313   \n",
       "2             27                3            38       17507   \n",
       "3             85                1            38       28424   \n",
       "4             85                1            38       12938   \n",
       "\n",
       "   download_attempts  product_platforms  machines  \n",
       "0                2.0                  0       1.0  \n",
       "1                1.0                  2       0.0  \n",
       "2                3.0                  1       1.0  \n",
       "3                2.0                  2       1.0  \n",
       "4                1.0                  0       0.0  "
      ]
     },
     "execution_count": 15,
     "metadata": {},
     "output_type": "execute_result"
    }
   ],
   "source": [
    "lbdata_x.head()"
   ]
  },
  {
   "cell_type": "code",
   "execution_count": 78,
   "metadata": {},
   "outputs": [],
   "source": [
    "from sklearn.model_selection import train_test_split\n",
    "x_train, x_test,y_train, y_test=train_test_split(lbdata_x,lbdata_y,test_size=.2,random_state=101)"
   ]
  },
  {
   "cell_type": "code",
   "execution_count": 79,
   "metadata": {},
   "outputs": [
    {
     "name": "stderr",
     "output_type": "stream",
     "text": [
      "C:\\Users\\dell\\Anaconda3\\lib\\site-packages\\sklearn\\linear_model\\logistic.py:433: FutureWarning: Default solver will be changed to 'lbfgs' in 0.22. Specify a solver to silence this warning.\n",
      "  FutureWarning)\n"
     ]
    },
    {
     "data": {
      "text/plain": [
       "LogisticRegression(C=1.0, class_weight=None, dual=False, fit_intercept=True,\n",
       "          intercept_scaling=1, max_iter=100, multi_class='warn',\n",
       "          n_jobs=None, penalty='l2', random_state=None, solver='warn',\n",
       "          tol=0.0001, verbose=0, warm_start=False)"
      ]
     },
     "execution_count": 79,
     "metadata": {},
     "output_type": "execute_result"
    }
   ],
   "source": [
    "from  sklearn.linear_model import LogisticRegression\n",
    "logmodel=LogisticRegression()\n",
    "logmodel.fit(x_train, y_train)"
   ]
  },
  {
   "cell_type": "code",
   "execution_count": 80,
   "metadata": {},
   "outputs": [],
   "source": [
    "pred=logmodel.predict(x_test)\n",
    "from sklearn.metrics import confusion_matrix\n",
    "table1=confusion_matrix(pred, y_test)"
   ]
  },
  {
   "cell_type": "code",
   "execution_count": 81,
   "metadata": {},
   "outputs": [
    {
     "data": {
      "text/plain": [
       "array([[58404,  3386],\n",
       "       [    0,     0]], dtype=int64)"
      ]
     },
     "execution_count": 81,
     "metadata": {},
     "output_type": "execute_result"
    }
   ],
   "source": [
    "table1"
   ]
  },
  {
   "cell_type": "markdown",
   "metadata": {},
   "source": [
    "# OVERSAMPLING"
   ]
  },
  {
   "cell_type": "code",
   "execution_count": 82,
   "metadata": {},
   "outputs": [],
   "source": [
    "temp_data=pd.concat([x_train, y_train], axis=1)"
   ]
  },
  {
   "cell_type": "code",
   "execution_count": 83,
   "metadata": {},
   "outputs": [
    {
     "data": {
      "text/plain": [
       "0    233965\n",
       "1     13193\n",
       "Name: label, dtype: int64"
      ]
     },
     "execution_count": 83,
     "metadata": {},
     "output_type": "execute_result"
    }
   ],
   "source": [
    "y_train.value_counts()"
   ]
  },
  {
   "cell_type": "code",
   "execution_count": 84,
   "metadata": {},
   "outputs": [],
   "source": [
    "label_1=temp_data[temp_data.label==1]"
   ]
  },
  {
   "cell_type": "code",
   "execution_count": 85,
   "metadata": {},
   "outputs": [],
   "source": [
    "while temp_data.label.value_counts()[1] < 250000:\n",
    "    temp_data = pd.concat([temp_data,label_1],axis=0)"
   ]
  },
  {
   "cell_type": "code",
   "execution_count": 86,
   "metadata": {},
   "outputs": [
    {
     "data": {
      "text/plain": [
       "(484632, 14)"
      ]
     },
     "execution_count": 86,
     "metadata": {},
     "output_type": "execute_result"
    }
   ],
   "source": [
    "temp_data.shape"
   ]
  },
  {
   "cell_type": "code",
   "execution_count": 87,
   "metadata": {},
   "outputs": [],
   "source": [
    "x_train= temp_data.iloc[:,0:13]\n",
    "y_train= temp_data.iloc[:,-1]"
   ]
  },
  {
   "cell_type": "code",
   "execution_count": 58,
   "metadata": {},
   "outputs": [
    {
     "data": {
      "text/html": [
       "<div>\n",
       "<style scoped>\n",
       "    .dataframe tbody tr th:only-of-type {\n",
       "        vertical-align: middle;\n",
       "    }\n",
       "\n",
       "    .dataframe tbody tr th {\n",
       "        vertical-align: top;\n",
       "    }\n",
       "\n",
       "    .dataframe thead th {\n",
       "        text-align: right;\n",
       "    }\n",
       "</style>\n",
       "<table border=\"1\" class=\"dataframe\">\n",
       "  <thead>\n",
       "    <tr style=\"text-align: right;\">\n",
       "      <th></th>\n",
       "      <th>skill</th>\n",
       "      <th>job</th>\n",
       "      <th>purpose</th>\n",
       "      <th>target_group</th>\n",
       "      <th>business_group</th>\n",
       "      <th>business_segment</th>\n",
       "      <th>signup_source</th>\n",
       "      <th>signup_category</th>\n",
       "      <th>country_code</th>\n",
       "      <th>product_id</th>\n",
       "      <th>download_attempts</th>\n",
       "      <th>product_platforms</th>\n",
       "      <th>machines</th>\n",
       "    </tr>\n",
       "  </thead>\n",
       "  <tbody>\n",
       "    <tr>\n",
       "      <th>286482</th>\n",
       "      <td>4</td>\n",
       "      <td>0</td>\n",
       "      <td>0</td>\n",
       "      <td>24</td>\n",
       "      <td>7</td>\n",
       "      <td>3</td>\n",
       "      <td>85</td>\n",
       "      <td>1</td>\n",
       "      <td>38</td>\n",
       "      <td>7313</td>\n",
       "      <td>1.0</td>\n",
       "      <td>0</td>\n",
       "      <td>0.0</td>\n",
       "    </tr>\n",
       "    <tr>\n",
       "      <th>216433</th>\n",
       "      <td>0</td>\n",
       "      <td>9</td>\n",
       "      <td>2</td>\n",
       "      <td>7</td>\n",
       "      <td>1</td>\n",
       "      <td>3</td>\n",
       "      <td>85</td>\n",
       "      <td>1</td>\n",
       "      <td>38</td>\n",
       "      <td>26254</td>\n",
       "      <td>5.0</td>\n",
       "      <td>2</td>\n",
       "      <td>1.0</td>\n",
       "    </tr>\n",
       "    <tr>\n",
       "      <th>148331</th>\n",
       "      <td>0</td>\n",
       "      <td>0</td>\n",
       "      <td>0</td>\n",
       "      <td>10</td>\n",
       "      <td>4</td>\n",
       "      <td>3</td>\n",
       "      <td>95</td>\n",
       "      <td>1</td>\n",
       "      <td>38</td>\n",
       "      <td>30352</td>\n",
       "      <td>5.0</td>\n",
       "      <td>0</td>\n",
       "      <td>1.0</td>\n",
       "    </tr>\n",
       "    <tr>\n",
       "      <th>18986</th>\n",
       "      <td>0</td>\n",
       "      <td>4</td>\n",
       "      <td>2</td>\n",
       "      <td>19</td>\n",
       "      <td>6</td>\n",
       "      <td>4</td>\n",
       "      <td>85</td>\n",
       "      <td>1</td>\n",
       "      <td>38</td>\n",
       "      <td>7313</td>\n",
       "      <td>1.0</td>\n",
       "      <td>2</td>\n",
       "      <td>0.0</td>\n",
       "    </tr>\n",
       "    <tr>\n",
       "      <th>193153</th>\n",
       "      <td>4</td>\n",
       "      <td>0</td>\n",
       "      <td>0</td>\n",
       "      <td>7</td>\n",
       "      <td>1</td>\n",
       "      <td>3</td>\n",
       "      <td>85</td>\n",
       "      <td>1</td>\n",
       "      <td>38</td>\n",
       "      <td>0</td>\n",
       "      <td>0.0</td>\n",
       "      <td>2</td>\n",
       "      <td>1.0</td>\n",
       "    </tr>\n",
       "  </tbody>\n",
       "</table>\n",
       "</div>"
      ],
      "text/plain": [
       "        skill  job  purpose  target_group  business_group  business_segment  \\\n",
       "286482      4    0        0            24               7                 3   \n",
       "216433      0    9        2             7               1                 3   \n",
       "148331      0    0        0            10               4                 3   \n",
       "18986       0    4        2            19               6                 4   \n",
       "193153      4    0        0             7               1                 3   \n",
       "\n",
       "        signup_source  signup_category  country_code  product_id  \\\n",
       "286482             85                1            38        7313   \n",
       "216433             85                1            38       26254   \n",
       "148331             95                1            38       30352   \n",
       "18986              85                1            38        7313   \n",
       "193153             85                1            38           0   \n",
       "\n",
       "        download_attempts  product_platforms  machines  \n",
       "286482                1.0                  0       0.0  \n",
       "216433                5.0                  2       1.0  \n",
       "148331                5.0                  0       1.0  \n",
       "18986                 1.0                  2       0.0  \n",
       "193153                0.0                  2       1.0  "
      ]
     },
     "execution_count": 58,
     "metadata": {},
     "output_type": "execute_result"
    }
   ],
   "source": [
    "x_train.head()"
   ]
  },
  {
   "cell_type": "markdown",
   "metadata": {},
   "source": [
    "# LOGISTIC REGRESSION\n"
   ]
  },
  {
   "cell_type": "code",
   "execution_count": 41,
   "metadata": {},
   "outputs": [
    {
     "name": "stderr",
     "output_type": "stream",
     "text": [
      "C:\\Users\\dell\\Anaconda3\\lib\\site-packages\\sklearn\\linear_model\\logistic.py:433: FutureWarning: Default solver will be changed to 'lbfgs' in 0.22. Specify a solver to silence this warning.\n",
      "  FutureWarning)\n"
     ]
    },
    {
     "data": {
      "text/plain": [
       "LogisticRegression(C=1.0, class_weight=None, dual=False, fit_intercept=True,\n",
       "          intercept_scaling=1, max_iter=100, multi_class='warn',\n",
       "          n_jobs=None, penalty='l2', random_state=None, solver='warn',\n",
       "          tol=0.0001, verbose=0, warm_start=False)"
      ]
     },
     "execution_count": 41,
     "metadata": {},
     "output_type": "execute_result"
    }
   ],
   "source": [
    "from  sklearn.linear_model import LogisticRegression\n",
    "logmodel=LogisticRegression()\n",
    "logmodel.fit(x_train, y_train)"
   ]
  },
  {
   "cell_type": "code",
   "execution_count": 42,
   "metadata": {},
   "outputs": [
    {
     "data": {
      "text/plain": [
       "array([[31281,  1211],\n",
       "       [27123,  2175]], dtype=int64)"
      ]
     },
     "execution_count": 42,
     "metadata": {},
     "output_type": "execute_result"
    }
   ],
   "source": [
    "pred=logmodel.predict(x_test)\n",
    "from sklearn.metrics import confusion_matrix\n",
    "table1=confusion_matrix(pred, y_test)\n",
    "table1"
   ]
  },
  {
   "cell_type": "code",
   "execution_count": 43,
   "metadata": {},
   "outputs": [
    {
     "data": {
      "text/plain": [
       "54.14468360576144"
      ]
     },
     "execution_count": 43,
     "metadata": {},
     "output_type": "execute_result"
    }
   ],
   "source": [
    "table1.diagonal().sum()  / table1.sum()  * 100"
   ]
  },
  {
   "cell_type": "code",
   "execution_count": 45,
   "metadata": {},
   "outputs": [
    {
     "data": {
      "text/plain": [
       "array([[49422,  2559],\n",
       "       [ 8982,   827]], dtype=int64)"
      ]
     },
     "execution_count": 45,
     "metadata": {},
     "output_type": "execute_result"
    }
   ],
   "source": [
    "from sklearn.tree import DecisionTreeClassifier\n",
    "dtree=DecisionTreeClassifier()\n",
    "dtree.fit(x_train, y_train)\n",
    "pred=dtree.predict(x_test)\n",
    "from sklearn.metrics import confusion_matrix\n",
    "dtree_table1=confusion_matrix(pred, y_test)\n",
    "dtree_table1"
   ]
  },
  {
   "cell_type": "code",
   "execution_count": 46,
   "metadata": {},
   "outputs": [
    {
     "data": {
      "text/plain": [
       "81.32222042401683"
      ]
     },
     "execution_count": 46,
     "metadata": {},
     "output_type": "execute_result"
    }
   ],
   "source": [
    "dtree_table1.diagonal().sum()  / dtree_table1.sum()  * 100"
   ]
  },
  {
   "cell_type": "code",
   "execution_count": 61,
   "metadata": {},
   "outputs": [
    {
     "name": "stderr",
     "output_type": "stream",
     "text": [
      "C:\\Users\\dell\\Anaconda3\\lib\\site-packages\\sklearn\\ensemble\\forest.py:246: FutureWarning: The default value of n_estimators will change from 10 in version 0.20 to 100 in 0.22.\n",
      "  \"10 in version 0.20 to 100 in 0.22.\", FutureWarning)\n"
     ]
    },
    {
     "data": {
      "text/plain": [
       "array([[46301,  2482],\n",
       "       [12103,   904]], dtype=int64)"
      ]
     },
     "execution_count": 61,
     "metadata": {},
     "output_type": "execute_result"
    }
   ],
   "source": [
    "from sklearn.ensemble import RandomForestClassifier\n",
    "rfc= RandomForestClassifier()\n",
    "rfc.fit(x_train, y_train)\n",
    "rf_pred= rfc.predict(x_test)\n",
    "rf_tab1=confusion_matrix(rf_pred, y_test)\n",
    "rf_tab1"
   ]
  },
  {
   "cell_type": "code",
   "execution_count": 62,
   "metadata": {},
   "outputs": [
    {
     "data": {
      "text/plain": [
       "76.39585693477909"
      ]
     },
     "execution_count": 62,
     "metadata": {},
     "output_type": "execute_result"
    }
   ],
   "source": [
    "rf_tab1.diagonal().sum()  / rf_tab1.sum()  * 100"
   ]
  },
  {
   "cell_type": "code",
   "execution_count": 88,
   "metadata": {},
   "outputs": [
    {
     "data": {
      "text/plain": [
       "array([[49525,  2570],\n",
       "       [ 8879,   816]], dtype=int64)"
      ]
     },
     "execution_count": 88,
     "metadata": {},
     "output_type": "execute_result"
    }
   ],
   "source": [
    "from sklearn.ensemble import AdaBoostClassifier\n",
    "abc=AdaBoostClassifier(DecisionTreeClassifier(),n_estimators=10)\n",
    "abc.fit(x_train,y_train)\n",
    "pred_value=abc.predict(x_test)\n",
    "adb_tab1=confusion_matrix(pred_value, y_test)\n",
    "adb_tab1"
   ]
  },
  {
   "cell_type": "code",
   "execution_count": 89,
   "metadata": {},
   "outputs": [
    {
     "data": {
      "text/plain": [
       "81.47111183039327"
      ]
     },
     "execution_count": 89,
     "metadata": {},
     "output_type": "execute_result"
    }
   ],
   "source": [
    "adb_tab1.diagonal().sum()  / adb_tab1.sum()  * 100"
   ]
  },
  {
   "cell_type": "code",
   "execution_count": null,
   "metadata": {},
   "outputs": [],
   "source": []
  }
 ],
 "metadata": {
  "kernelspec": {
   "display_name": "Python 3",
   "language": "python",
   "name": "python3"
  },
  "language_info": {
   "codemirror_mode": {
    "name": "ipython",
    "version": 3
   },
   "file_extension": ".py",
   "mimetype": "text/x-python",
   "name": "python",
   "nbconvert_exporter": "python",
   "pygments_lexer": "ipython3",
   "version": "3.7.1"
  }
 },
 "nbformat": 4,
 "nbformat_minor": 2
}
